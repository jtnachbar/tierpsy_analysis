{
 "cells": [
  {
   "cell_type": "code",
   "execution_count": 108,
   "metadata": {},
   "outputs": [],
   "source": [
    "import h5py\n",
    "import numpy as np\n",
    "import matplotlib.pyplot as plt"
   ]
  },
  {
   "cell_type": "code",
   "execution_count": 109,
   "metadata": {},
   "outputs": [],
   "source": [
    "f = h5py.File('time_series.hdf5', 'r')"
   ]
  },
  {
   "cell_type": "code",
   "execution_count": 110,
   "metadata": {},
   "outputs": [
    {
     "data": {
      "text/plain": [
       "<KeysViewHDF5 ['blob_features', 'coordinates', 'features_stats', 'provenance_tracking', 'timeseries_data', 'trajectories_data']>"
      ]
     },
     "execution_count": 110,
     "metadata": {},
     "output_type": "execute_result"
    }
   ],
   "source": [
    "f.keys()"
   ]
  },
  {
   "cell_type": "code",
   "execution_count": 111,
   "metadata": {},
   "outputs": [],
   "source": [
    "data = f['trajectories_data']"
   ]
  },
  {
   "cell_type": "code",
   "execution_count": 278,
   "metadata": {},
   "outputs": [],
   "source": [
    "# for every row, appends that row if it begins with 1\n",
    "xmax, ymax, xmin, ymin = -100000,-100000,100000,100000\n",
    "worms = []\n",
    "\n",
    "worm_arr = []\n",
    "for n in (1, 2, 3, 4):\n",
    "    worm_arr = []\n",
    "    for row in data:\n",
    "        if(row[2] == n):\n",
    "            worm_arr.append((row[3], row[4]))\n",
    "            if(row[3]) > xmax:\n",
    "                xmax = row[3]\n",
    "            if(row[3]) < xmin:\n",
    "                xmin = row[3]\n",
    "            if(row[4]) > ymax:\n",
    "                ymax = row[4]\n",
    "            if(row[4]) < ymin:\n",
    "                ymin = row[4]\n",
    "        else:\n",
    "            continue\n",
    "    worms.append(worm_arr)"
   ]
  },
  {
   "cell_type": "code",
   "execution_count": 292,
   "metadata": {},
   "outputs": [],
   "source": [
    "res = (512, 512)\n",
    "b = int(res[0] / 200)\n",
    "#im_array = np.pad(im_array, pad_width=b, mode='constant', constant_values=0) \n",
    "im_array = np.zeros((res[0] + 2*b, res[1] + 2*b, 3), dtype=np.uint8)"
   ]
  },
  {
   "cell_type": "code",
   "execution_count": 312,
   "metadata": {},
   "outputs": [],
   "source": [
    "# for every pixel, subtract the min add, multiply the position by 255/max, add 25 and take the floor\n",
    "colors = [(250, 0, 0), (0, 250, 0), (0, 0, 250), (200, 100, 0)]\n",
    "for k in range(len(worms)):\n",
    "    for entry in worms[k]:\n",
    "        x_i = int((entry[0] - xmin) * (res[0] / (xmax - xmin)) + int(b / 2))\n",
    "        y_i = int((entry[1] - ymin) * (res[1] / (ymax - ymin))  + int(b / 2))\n",
    "        for i in range(-b, b):\n",
    "            for j in range(-b, b):\n",
    "                im_array[x_i + i][y_i + j][0] = colors[k][0]\n",
    "                im_array[x_i + i][y_i + j][1] = colors[k][1]\n",
    "                im_array[x_i + i][y_i + j][2] = colors[k][2]"
   ]
  },
  {
   "cell_type": "code",
   "execution_count": 313,
   "metadata": {},
   "outputs": [],
   "source": [
    "from PIL import Image\n",
    "import matplotlib.cm as cm\n",
    "\n",
    "im = Image.fromarray(im_array)"
   ]
  },
  {
   "cell_type": "code",
   "execution_count": 314,
   "metadata": {},
   "outputs": [
    {
     "data": {
      "image/png": "[encoded data removed]",
      "text/plain": [
       "<PIL.Image.Image image mode=RGB size=516x516 at 0x11F5F3CC0>"
      ]
     },
     "metadata": {},
     "output_type": "display_data"
    }
   ],
   "source": [
    "from IPython.display import Image\n",
    "im = im.convert('RGB')\n",
    "display(im)"
   ]
  },
  {
   "cell_type": "code",
   "execution_count": null,
   "metadata": {},
   "outputs": [],
   "source": []
  }
 ],
 "metadata": {
  "kernelspec": {
   "display_name": "Python 3",
   "language": "python",
   "name": "python3"
  },
  "language_info": {
   "codemirror_mode": {
    "name": "ipython",
    "version": 3
   },
   "file_extension": ".py",
   "mimetype": "text/x-python",
   "name": "python",
   "nbconvert_exporter": "python",
   "pygments_lexer": "ipython3",
   "version": "3.7.3"
  }
 },
 "nbformat": 4,
 "nbformat_minor": 2
}
